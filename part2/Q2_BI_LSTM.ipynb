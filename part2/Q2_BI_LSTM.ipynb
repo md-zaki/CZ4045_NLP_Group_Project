{
 "cells": [
  {
   "cell_type": "markdown",
   "metadata": {},
   "source": [
    "### Import Libraries"
   ]
  },
  {
   "cell_type": "code",
   "execution_count": 1,
   "metadata": {},
   "outputs": [],
   "source": [
    "import gensim.downloader\n",
    "import pandas as pd\n",
    "import numpy as np\n",
    "import torch\n",
    "import nltk\n",
    "import string\n",
    "from torch.utils.data import Dataset, DataLoader\n",
    "import torch.nn as nn\n",
    "from torch.nn.utils.rnn import pad_sequence, pack_padded_sequence, pad_packed_sequence\n",
    "import torch.optim as optim\n",
    "import random\n",
    "import matplotlib.pyplot as plt"
   ]
  },
  {
   "cell_type": "markdown",
   "metadata": {},
   "source": [
    "### Set seed for reproducibility"
   ]
  },
  {
   "cell_type": "code",
   "execution_count": 2,
   "metadata": {},
   "outputs": [],
   "source": [
    "seed = 0\n",
    "\n",
    "random.seed(seed)\n",
    "torch.manual_seed(seed)\n",
    "torch.cuda.manual_seed(seed)\n",
    "np.random.seed(seed)\n",
    "torch.cuda.manual_seed_all(seed)\n",
    "torch.backends.cudnn.deterministic = True"
   ]
  },
  {
   "cell_type": "markdown",
   "metadata": {},
   "source": [
    "### Download pretrained word embeddings"
   ]
  },
  {
   "cell_type": "code",
   "execution_count": 3,
   "metadata": {},
   "outputs": [],
   "source": [
    "word2vec = gensim.downloader.load('word2vec-google-news-300')"
   ]
  },
  {
   "cell_type": "code",
   "execution_count": 4,
   "metadata": {},
   "outputs": [],
   "source": [
    "vocab = list(word2vec.index_to_key)\n",
    "vocab_size = len(word2vec.index_to_key)\n",
    "embedding_dim = 300"
   ]
  },
  {
   "cell_type": "markdown",
   "metadata": {},
   "source": [
    "### Import Dataset"
   ]
  },
  {
   "cell_type": "code",
   "execution_count": 5,
   "metadata": {},
   "outputs": [],
   "source": [
    "train_df = pd.read_csv('dataset part 2/train.csv')\n",
    "test_df = pd.read_csv(\"dataset part 2/test.csv\")\n",
    "train_df.drop(columns=['label-fine'], inplace=True)\n",
    "test_df.drop(columns=['label-fine'], inplace=True)"
   ]
  },
  {
   "cell_type": "code",
   "execution_count": 6,
   "metadata": {},
   "outputs": [
    {
     "data": {
      "text/html": [
       "<div>\n",
       "<style scoped>\n",
       "    .dataframe tbody tr th:only-of-type {\n",
       "        vertical-align: middle;\n",
       "    }\n",
       "\n",
       "    .dataframe tbody tr th {\n",
       "        vertical-align: top;\n",
       "    }\n",
       "\n",
       "    .dataframe thead th {\n",
       "        text-align: right;\n",
       "    }\n",
       "</style>\n",
       "<table border=\"1\" class=\"dataframe\">\n",
       "  <thead>\n",
       "    <tr style=\"text-align: right;\">\n",
       "      <th></th>\n",
       "      <th>label-coarse</th>\n",
       "      <th>text</th>\n",
       "    </tr>\n",
       "  </thead>\n",
       "  <tbody>\n",
       "    <tr>\n",
       "      <th>0</th>\n",
       "      <td>0</td>\n",
       "      <td>How did serfdom develop in and then leave Russ...</td>\n",
       "    </tr>\n",
       "    <tr>\n",
       "      <th>1</th>\n",
       "      <td>1</td>\n",
       "      <td>What films featured the character Popeye Doyle ?</td>\n",
       "    </tr>\n",
       "    <tr>\n",
       "      <th>2</th>\n",
       "      <td>0</td>\n",
       "      <td>How can I find a list of celebrities ' real na...</td>\n",
       "    </tr>\n",
       "    <tr>\n",
       "      <th>3</th>\n",
       "      <td>1</td>\n",
       "      <td>What fowl grabs the spotlight after the Chines...</td>\n",
       "    </tr>\n",
       "    <tr>\n",
       "      <th>4</th>\n",
       "      <td>2</td>\n",
       "      <td>What is the full form of .com ?</td>\n",
       "    </tr>\n",
       "    <tr>\n",
       "      <th>...</th>\n",
       "      <td>...</td>\n",
       "      <td>...</td>\n",
       "    </tr>\n",
       "    <tr>\n",
       "      <th>5447</th>\n",
       "      <td>1</td>\n",
       "      <td>What 's the shape of a camel 's spine ?</td>\n",
       "    </tr>\n",
       "    <tr>\n",
       "      <th>5448</th>\n",
       "      <td>1</td>\n",
       "      <td>What type of currency is used in China ?</td>\n",
       "    </tr>\n",
       "    <tr>\n",
       "      <th>5449</th>\n",
       "      <td>4</td>\n",
       "      <td>What is the temperature today ?</td>\n",
       "    </tr>\n",
       "    <tr>\n",
       "      <th>5450</th>\n",
       "      <td>4</td>\n",
       "      <td>What is the temperature for cooking ?</td>\n",
       "    </tr>\n",
       "    <tr>\n",
       "      <th>5451</th>\n",
       "      <td>1</td>\n",
       "      <td>What currency is used in Australia ?</td>\n",
       "    </tr>\n",
       "  </tbody>\n",
       "</table>\n",
       "<p>5452 rows × 2 columns</p>\n",
       "</div>"
      ],
      "text/plain": [
       "      label-coarse                                               text\n",
       "0                0  How did serfdom develop in and then leave Russ...\n",
       "1                1   What films featured the character Popeye Doyle ?\n",
       "2                0  How can I find a list of celebrities ' real na...\n",
       "3                1  What fowl grabs the spotlight after the Chines...\n",
       "4                2                    What is the full form of .com ?\n",
       "...            ...                                                ...\n",
       "5447             1            What 's the shape of a camel 's spine ?\n",
       "5448             1           What type of currency is used in China ?\n",
       "5449             4                    What is the temperature today ?\n",
       "5450             4              What is the temperature for cooking ?\n",
       "5451             1               What currency is used in Australia ?\n",
       "\n",
       "[5452 rows x 2 columns]"
      ]
     },
     "execution_count": 6,
     "metadata": {},
     "output_type": "execute_result"
    }
   ],
   "source": [
    "train_df"
   ]
  },
  {
   "cell_type": "markdown",
   "metadata": {},
   "source": [
    "Form a development set from a random subset (containing 500 examples) within the original training data. Remove these examples from original training file"
   ]
  },
  {
   "cell_type": "code",
   "execution_count": 7,
   "metadata": {},
   "outputs": [],
   "source": [
    "development_df = train_df.sample(n=500, random_state=0) # randomly sample 500 rows from train df\n",
    "train_df = train_df.drop(development_df.index) # remove sampled rows from train df"
   ]
  },
  {
   "cell_type": "code",
   "execution_count": 8,
   "metadata": {},
   "outputs": [
    {
     "data": {
      "text/html": [
       "<div>\n",
       "<style scoped>\n",
       "    .dataframe tbody tr th:only-of-type {\n",
       "        vertical-align: middle;\n",
       "    }\n",
       "\n",
       "    .dataframe tbody tr th {\n",
       "        vertical-align: top;\n",
       "    }\n",
       "\n",
       "    .dataframe thead th {\n",
       "        text-align: right;\n",
       "    }\n",
       "</style>\n",
       "<table border=\"1\" class=\"dataframe\">\n",
       "  <thead>\n",
       "    <tr style=\"text-align: right;\">\n",
       "      <th></th>\n",
       "      <th>label-coarse</th>\n",
       "      <th>text</th>\n",
       "    </tr>\n",
       "  </thead>\n",
       "  <tbody>\n",
       "    <tr>\n",
       "      <th>2755</th>\n",
       "      <td>4</td>\n",
       "      <td>How many trees go into paper making in a year ?</td>\n",
       "    </tr>\n",
       "    <tr>\n",
       "      <th>3326</th>\n",
       "      <td>1</td>\n",
       "      <td>What concerts are held in New York this week ?</td>\n",
       "    </tr>\n",
       "    <tr>\n",
       "      <th>2204</th>\n",
       "      <td>5</td>\n",
       "      <td>Where did the sport of caber-tossing originate ?</td>\n",
       "    </tr>\n",
       "    <tr>\n",
       "      <th>2888</th>\n",
       "      <td>3</td>\n",
       "      <td>What kind of people took part in Shays ' Rebel...</td>\n",
       "    </tr>\n",
       "    <tr>\n",
       "      <th>2812</th>\n",
       "      <td>0</td>\n",
       "      <td>How is cologne made ?</td>\n",
       "    </tr>\n",
       "    <tr>\n",
       "      <th>...</th>\n",
       "      <td>...</td>\n",
       "      <td>...</td>\n",
       "    </tr>\n",
       "    <tr>\n",
       "      <th>5335</th>\n",
       "      <td>5</td>\n",
       "      <td>Where was George Washington born ?</td>\n",
       "    </tr>\n",
       "    <tr>\n",
       "      <th>1275</th>\n",
       "      <td>4</td>\n",
       "      <td>In what year did the Bounty mutiny happen ?</td>\n",
       "    </tr>\n",
       "    <tr>\n",
       "      <th>4508</th>\n",
       "      <td>0</td>\n",
       "      <td>What is the difference between khaki and chino ?</td>\n",
       "    </tr>\n",
       "    <tr>\n",
       "      <th>402</th>\n",
       "      <td>4</td>\n",
       "      <td>How many types of dogs ' tails are there - three</td>\n",
       "    </tr>\n",
       "    <tr>\n",
       "      <th>4386</th>\n",
       "      <td>0</td>\n",
       "      <td>What is a `` node '' in computer terms ?</td>\n",
       "    </tr>\n",
       "  </tbody>\n",
       "</table>\n",
       "<p>500 rows × 2 columns</p>\n",
       "</div>"
      ],
      "text/plain": [
       "      label-coarse                                               text\n",
       "2755             4    How many trees go into paper making in a year ?\n",
       "3326             1     What concerts are held in New York this week ?\n",
       "2204             5   Where did the sport of caber-tossing originate ?\n",
       "2888             3  What kind of people took part in Shays ' Rebel...\n",
       "2812             0                              How is cologne made ?\n",
       "...            ...                                                ...\n",
       "5335             5                 Where was George Washington born ?\n",
       "1275             4        In what year did the Bounty mutiny happen ?\n",
       "4508             0   What is the difference between khaki and chino ?\n",
       "402              4   How many types of dogs ' tails are there - three\n",
       "4386             0           What is a `` node '' in computer terms ?\n",
       "\n",
       "[500 rows x 2 columns]"
      ]
     },
     "execution_count": 8,
     "metadata": {},
     "output_type": "execute_result"
    }
   ],
   "source": [
    "development_df"
   ]
  },
  {
   "cell_type": "markdown",
   "metadata": {},
   "source": [
    "Randomly select 4 classes from 6 coarse labels, combine remaining 2 to form a single class 'OTHERS'. Adjust original data such that label for each sentence is updated accordingly"
   ]
  },
  {
   "cell_type": "code",
   "execution_count": 9,
   "metadata": {},
   "outputs": [],
   "source": [
    "# Selected 2 labels for combining\n",
    "combined_1 = 4\n",
    "combined_2 = 5\n",
    "\n",
    "# train_df['label-coarse'] = train_df['label-coarse'].astype(object)\n",
    "# test_df['label-coarse'] = train_df['label-coarse'].astype(object)\n",
    "# development_df['label-coarse'] = train_df['label-coarse'].astype(object)\n",
    "\n",
    "# Assign label 5 as 4 as the OTHERS label\n",
    "train_df.loc[(train_df['label-coarse'] == combined_2), 'label-coarse'] = combined_1\n",
    "test_df.loc[(test_df['label-coarse'] == combined_2), 'label-coarse'] = combined_1\n",
    "development_df.loc[(development_df['label-coarse'] == combined_2), 'label-coarse'] = combined_1"
   ]
  },
  {
   "cell_type": "markdown",
   "metadata": {},
   "source": [
    "### Tokenize and remove punctuation"
   ]
  },
  {
   "cell_type": "code",
   "execution_count": 10,
   "metadata": {},
   "outputs": [],
   "source": [
    "from nltk.tokenize import word_tokenize\n",
    "\n",
    "def tokenize_and_remove_punctuation(text):\n",
    "    # Create a translation table to replace punctuation with empty strings\n",
    "    translator = str.maketrans('', '', string.punctuation)\n",
    "    # Remove punctuation and replace with ''\n",
    "    text_ = text.translate(translator)\n",
    "    tokens = word_tokenize(text_)\n",
    "    # filtered_tokens = [token for token in tokens if token in vocab]\n",
    "    return tokens"
   ]
  },
  {
   "cell_type": "code",
   "execution_count": 11,
   "metadata": {},
   "outputs": [],
   "source": [
    "train_df['text'] = train_df['text'].apply(lambda x: tokenize_and_remove_punctuation(x))\n",
    "test_df['text'] = test_df['text'].apply(lambda x: tokenize_and_remove_punctuation(x))\n",
    "development_df['text'] = development_df['text'].apply(lambda x: tokenize_and_remove_punctuation(x))"
   ]
  },
  {
   "cell_type": "markdown",
   "metadata": {},
   "source": [
    "### Padding of Data for LSTM"
   ]
  },
  {
   "cell_type": "code",
   "execution_count": 12,
   "metadata": {},
   "outputs": [],
   "source": [
    "# def pad_tokens(tokens, max_length, padding_value='<pad>'):\n",
    "#     if len(tokens) < max_length:\n",
    "#         tokens.extend([padding_value] * (max_length - len(tokens)))\n",
    "#     return tokens"
   ]
  },
  {
   "cell_type": "code",
   "execution_count": 13,
   "metadata": {},
   "outputs": [],
   "source": [
    "# max_length = max(train_df['text'].apply(len))"
   ]
  },
  {
   "cell_type": "code",
   "execution_count": 14,
   "metadata": {},
   "outputs": [],
   "source": [
    "# train_df['text'] = train_df['text'].apply(pad_tokens, max_length=max_length)\n",
    "# test_df['text'] = test_df['text'].apply(pad_tokens, max_length=max_length)\n",
    "# development_df['text'] = development_df['text'].apply(pad_tokens, max_length=max_length)"
   ]
  },
  {
   "cell_type": "markdown",
   "metadata": {},
   "source": [
    "### Get embedding matrix for embedding layer"
   ]
  },
  {
   "cell_type": "code",
   "execution_count": 15,
   "metadata": {},
   "outputs": [],
   "source": [
    "embedding_matrix = word2vec.vectors"
   ]
  },
  {
   "cell_type": "code",
   "execution_count": 16,
   "metadata": {},
   "outputs": [
    {
     "data": {
      "text/plain": [
       "(3000000, 300)"
      ]
     },
     "execution_count": 16,
     "metadata": {},
     "output_type": "execute_result"
    }
   ],
   "source": [
    "embedding_matrix.shape"
   ]
  },
  {
   "cell_type": "markdown",
   "metadata": {},
   "source": [
    "### Last element a zero array for out of vocab words"
   ]
  },
  {
   "cell_type": "code",
   "execution_count": 17,
   "metadata": {},
   "outputs": [],
   "source": [
    "zero_array = np.zeros((300,))\n",
    "embedding_matrix = np.vstack((embedding_matrix, zero_array)) # last element a zero array for OOV words"
   ]
  },
  {
   "cell_type": "markdown",
   "metadata": {},
   "source": [
    "### Encode text in dataframe to indices"
   ]
  },
  {
   "cell_type": "code",
   "execution_count": 18,
   "metadata": {},
   "outputs": [],
   "source": [
    "def tokens_to_indices(tokens, model):\n",
    "    indices = []\n",
    "    for token in tokens:\n",
    "        try:\n",
    "            indices.append(model.get_index(token))\n",
    "        except:\n",
    "            indices.append(len(embedding_matrix)-1)  # Handle out-of-vocabulary words\n",
    "    return indices"
   ]
  },
  {
   "cell_type": "code",
   "execution_count": 19,
   "metadata": {},
   "outputs": [],
   "source": [
    "train_df['word_indices'] = train_df['text'].apply(lambda x: tokens_to_indices(x, word2vec))\n",
    "test_df['word_indices'] = test_df['text'].apply(lambda x: tokens_to_indices(x, word2vec))\n",
    "development_df['word_indices'] = development_df['text'].apply(lambda x: tokens_to_indices(x, word2vec))"
   ]
  },
  {
   "cell_type": "code",
   "execution_count": 20,
   "metadata": {},
   "outputs": [
    {
     "data": {
      "text/html": [
       "<div>\n",
       "<style scoped>\n",
       "    .dataframe tbody tr th:only-of-type {\n",
       "        vertical-align: middle;\n",
       "    }\n",
       "\n",
       "    .dataframe tbody tr th {\n",
       "        vertical-align: top;\n",
       "    }\n",
       "\n",
       "    .dataframe thead th {\n",
       "        text-align: right;\n",
       "    }\n",
       "</style>\n",
       "<table border=\"1\" class=\"dataframe\">\n",
       "  <thead>\n",
       "    <tr style=\"text-align: right;\">\n",
       "      <th></th>\n",
       "      <th>label-coarse</th>\n",
       "      <th>text</th>\n",
       "      <th>word_indices</th>\n",
       "    </tr>\n",
       "  </thead>\n",
       "  <tbody>\n",
       "    <tr>\n",
       "      <th>0</th>\n",
       "      <td>0</td>\n",
       "      <td>[How, did, serfdom, develop, in, and, then, le...</td>\n",
       "      <td>[1190, 92, 178836, 1306, 1, 3000000, 145, 785,...</td>\n",
       "    </tr>\n",
       "    <tr>\n",
       "      <th>1</th>\n",
       "      <td>1</td>\n",
       "      <td>[What, films, featured, the, character, Popeye...</td>\n",
       "      <td>[470, 2485, 2723, 11, 1980, 65760, 8347]</td>\n",
       "    </tr>\n",
       "    <tr>\n",
       "      <th>2</th>\n",
       "      <td>0</td>\n",
       "      <td>[How, can, I, find, a, list, of, celebrities, ...</td>\n",
       "      <td>[1190, 50, 20, 359, 3000000, 711, 3000000, 666...</td>\n",
       "    </tr>\n",
       "    <tr>\n",
       "      <th>3</th>\n",
       "      <td>1</td>\n",
       "      <td>[What, fowl, grabs, the, spotlight, after, the...</td>\n",
       "      <td>[470, 43119, 10673, 11, 6236, 55, 11, 1035, 16...</td>\n",
       "    </tr>\n",
       "    <tr>\n",
       "      <th>4</th>\n",
       "      <td>2</td>\n",
       "      <td>[What, is, the, full, form, of, com]</td>\n",
       "      <td>[470, 4, 11, 335, 815, 3000000, 18117]</td>\n",
       "    </tr>\n",
       "    <tr>\n",
       "      <th>...</th>\n",
       "      <td>...</td>\n",
       "      <td>...</td>\n",
       "      <td>...</td>\n",
       "    </tr>\n",
       "    <tr>\n",
       "      <th>5447</th>\n",
       "      <td>1</td>\n",
       "      <td>[What, s, the, shape, of, a, camel, s, spine]</td>\n",
       "      <td>[470, 1280, 11, 2790, 3000000, 3000000, 28380,...</td>\n",
       "    </tr>\n",
       "    <tr>\n",
       "      <th>5448</th>\n",
       "      <td>1</td>\n",
       "      <td>[What, type, of, currency, is, used, in, China]</td>\n",
       "      <td>[470, 1474, 3000000, 2325, 4, 233, 1, 367]</td>\n",
       "    </tr>\n",
       "    <tr>\n",
       "      <th>5449</th>\n",
       "      <td>4</td>\n",
       "      <td>[What, is, the, temperature, today]</td>\n",
       "      <td>[470, 4, 11, 4360, 205]</td>\n",
       "    </tr>\n",
       "    <tr>\n",
       "      <th>5450</th>\n",
       "      <td>4</td>\n",
       "      <td>[What, is, the, temperature, for, cooking]</td>\n",
       "      <td>[470, 4, 11, 4360, 2, 5195]</td>\n",
       "    </tr>\n",
       "    <tr>\n",
       "      <th>5451</th>\n",
       "      <td>1</td>\n",
       "      <td>[What, currency, is, used, in, Australia]</td>\n",
       "      <td>[470, 2325, 4, 233, 1, 904]</td>\n",
       "    </tr>\n",
       "  </tbody>\n",
       "</table>\n",
       "<p>4952 rows × 3 columns</p>\n",
       "</div>"
      ],
      "text/plain": [
       "      label-coarse                                               text  \\\n",
       "0                0  [How, did, serfdom, develop, in, and, then, le...   \n",
       "1                1  [What, films, featured, the, character, Popeye...   \n",
       "2                0  [How, can, I, find, a, list, of, celebrities, ...   \n",
       "3                1  [What, fowl, grabs, the, spotlight, after, the...   \n",
       "4                2               [What, is, the, full, form, of, com]   \n",
       "...            ...                                                ...   \n",
       "5447             1      [What, s, the, shape, of, a, camel, s, spine]   \n",
       "5448             1    [What, type, of, currency, is, used, in, China]   \n",
       "5449             4                [What, is, the, temperature, today]   \n",
       "5450             4         [What, is, the, temperature, for, cooking]   \n",
       "5451             1          [What, currency, is, used, in, Australia]   \n",
       "\n",
       "                                           word_indices  \n",
       "0     [1190, 92, 178836, 1306, 1, 3000000, 145, 785,...  \n",
       "1              [470, 2485, 2723, 11, 1980, 65760, 8347]  \n",
       "2     [1190, 50, 20, 359, 3000000, 711, 3000000, 666...  \n",
       "3     [470, 43119, 10673, 11, 6236, 55, 11, 1035, 16...  \n",
       "4                [470, 4, 11, 335, 815, 3000000, 18117]  \n",
       "...                                                 ...  \n",
       "5447  [470, 1280, 11, 2790, 3000000, 3000000, 28380,...  \n",
       "5448         [470, 1474, 3000000, 2325, 4, 233, 1, 367]  \n",
       "5449                            [470, 4, 11, 4360, 205]  \n",
       "5450                        [470, 4, 11, 4360, 2, 5195]  \n",
       "5451                        [470, 2325, 4, 233, 1, 904]  \n",
       "\n",
       "[4952 rows x 3 columns]"
      ]
     },
     "execution_count": 20,
     "metadata": {},
     "output_type": "execute_result"
    }
   ],
   "source": [
    "train_df"
   ]
  },
  {
   "cell_type": "markdown",
   "metadata": {},
   "source": [
    "### Create custom dataset, collate function for dataloader and dataloaders"
   ]
  },
  {
   "cell_type": "code",
   "execution_count": 21,
   "metadata": {},
   "outputs": [],
   "source": [
    "import torch\n",
    "from torch.utils.data import Dataset\n",
    "\n",
    "class MyCustomDataset(Dataset):\n",
    "    def __init__(self, data, targets):\n",
    "        self.data = data\n",
    "        self.targets = targets\n",
    "\n",
    "    def __len__(self):\n",
    "        return len(self.data)\n",
    "\n",
    "    def __getitem__(self, idx):\n",
    "        return self.data[idx], self.targets[idx]"
   ]
  },
  {
   "cell_type": "code",
   "execution_count": 22,
   "metadata": {},
   "outputs": [],
   "source": [
    "def collate_fn(batch):\n",
    "    data, targets = zip(*batch)\n",
    "    \n",
    "    # Sort the batch by sequence length (optional, but can improve efficiency)\n",
    "    sorted_indices = sorted(range(len(data)), key=lambda i: len(data[i]), reverse=True)\n",
    "    data = [data[i] for i in sorted_indices]\n",
    "    targets = [targets[i] for i in sorted_indices]\n",
    "\n",
    "    # Create a list of sequences and their corresponding lengths\n",
    "    sequences = [torch.tensor(seq) for seq in data]\n",
    "    lengths = [len(seq) for seq in sequences]\n",
    "\n",
    "    # Pad the sequences to the length of the longest sequence in the batch\n",
    "    padded_sequences = pad_sequence(sequences, batch_first=True)\n",
    "\n",
    "    # Create packed sequence for RNNs (optional, if you're using an RNN)\n",
    "    # packed_sequences = pack_padded_sequence(padded_sequences, lengths, batch_first=True, enforce_sorted=False)\n",
    "\n",
    "    return padded_sequences, torch.tensor(targets), torch.tensor(lengths)"
   ]
  },
  {
   "cell_type": "code",
   "execution_count": 23,
   "metadata": {},
   "outputs": [],
   "source": [
    "train_dataset = MyCustomDataset(train_df['word_indices'].to_numpy(), train_df['label-coarse'].to_numpy())\n",
    "test_dataset = MyCustomDataset(test_df['word_indices'].to_numpy(), test_df['label-coarse'].to_numpy())\n",
    "development_dataset = MyCustomDataset(development_df['word_indices'].to_numpy(), development_df['label-coarse'].to_numpy())"
   ]
  },
  {
   "cell_type": "code",
   "execution_count": 24,
   "metadata": {},
   "outputs": [],
   "source": [
    "train_dataloader = DataLoader(train_dataset, batch_size=32, shuffle=False, collate_fn=collate_fn)\n",
    "test_dataloader = DataLoader(test_dataset, batch_size=32, shuffle=False, collate_fn=collate_fn)\n",
    "development_dataloader = DataLoader(development_dataset, batch_size=32, shuffle=False, collate_fn=collate_fn)"
   ]
  },
  {
   "cell_type": "markdown",
   "metadata": {},
   "source": [
    "### LSTM Text Classifier Architecture"
   ]
  },
  {
   "cell_type": "code",
   "execution_count": 25,
   "metadata": {},
   "outputs": [],
   "source": [
    "class LSTMTextClassifier(nn.Module):\n",
    "    def __init__(self, vocab_size, embedding_dim, hidden_dim, output_dim, num_layers, bidirectional, device, aggregate='last'):\n",
    "        super(LSTMTextClassifier, self).__init__()\n",
    "        self.aggregate = aggregate\n",
    "        # Embedding layer with pretrained word vectors\n",
    "        self.embedding = nn.Embedding.from_pretrained(torch.tensor(embedding_matrix).to(device))\n",
    "        self.embedding.weight.requires_grad = False # freeze the embeddings\n",
    "        \n",
    "        # LSTM layer\n",
    "        self.lstm = nn.LSTM(embedding_dim, hidden_dim, num_layers=num_layers, bidirectional=bidirectional, batch_first=True)\n",
    "        \n",
    "        # Softmax Layer\n",
    "        self.softmax_layer = nn.Sequential(nn.Linear(hidden_dim * 2 if bidirectional else hidden_dim, output_dim),\n",
    "        nn.Softmax(dim=1))\n",
    "        \n",
    "    def forward(self, text, text_lengths):\n",
    "        # Embed the input\n",
    "        embedded = self.embedding(text)\n",
    "        \n",
    "        #Pack the embedded sequences to handle variable-length sequences\n",
    "        packed_embedded = pack_padded_sequence(embedded, text_lengths, batch_first=True, enforce_sorted=False)\n",
    "\n",
    "        # Pass through the LSTM layer\n",
    "        packed_output, (hidden, cell) = self.lstm(packed_embedded)\n",
    "\n",
    "        # Unpack the packed sequences\n",
    "        output, _ = pad_packed_sequence(packed_output, batch_first=True)\n",
    "\n",
    "        if(self.aggregate == 'last'):\n",
    "            # Use the final hidden state as the representation for the sentence\n",
    "            hidden = torch.cat((hidden[-2, :, :], hidden[-1, :, :]), dim=1) if self.lstm.bidirectional else hidden[-1, :, :]\n",
    "            # Use max pooling to aggregate as the representation for the sentence\n",
    "        elif(self.aggregate == 'max'):\n",
    "            hidden, _ = torch.max(output, dim = 1)\n",
    "            # Use average pooling to aggregate as the representation for the sentence\n",
    "        elif(self.aggregate == 'average'):\n",
    "            hidden = torch.mean(output, dim = 1)\n",
    "        \n",
    "        # Pass through the softmax layer\n",
    "        output = self.softmax_layer(hidden)\n",
    "        return output"
   ]
  },
  {
   "cell_type": "markdown",
   "metadata": {},
   "source": [
    "### Declare model parameters"
   ]
  },
  {
   "cell_type": "code",
   "execution_count": 26,
   "metadata": {},
   "outputs": [],
   "source": [
    "embedding_matrix = torch.tensor(embedding_matrix, dtype=torch.float)\n",
    "hidden_dim = 256\n",
    "output_dim = 5\n",
    "vocab_size = len(word2vec.index_to_key)\n",
    "embedding_dim = 300\n",
    "num_layer = 1\n",
    "device = torch.device('cuda')"
   ]
  },
  {
   "cell_type": "markdown",
   "metadata": {},
   "source": [
    "### Train function"
   ]
  },
  {
   "cell_type": "code",
   "execution_count": 27,
   "metadata": {},
   "outputs": [],
   "source": [
    "def train(model, train_dataloader, valid_dataloader, optimizer, loss_fn, device, num_epochs=50):\n",
    "    model.to(device)\n",
    "    dev_acc_per_epoch = []\n",
    "    for epoch in range(num_epochs):\n",
    "        model.train()\n",
    "        # ======== training phase ==========\n",
    "        train_loss = 0.0\n",
    "        for batch in train_dataloader:\n",
    "            text, labels, text_lengths = batch\n",
    "            text, labels, text_lengths  = torch.tensor(text).to(device), labels.to(device), text_lengths\n",
    "\n",
    "            optimizer.zero_grad() # clear gradients\n",
    "\n",
    "            output = model(text, text_lengths)\n",
    "\n",
    "            loss = loss_fn(output, labels)\n",
    "            loss.backward()\n",
    "            optimizer.step()\n",
    "\n",
    "            train_loss += loss.item()\n",
    "        \n",
    "        # Calculate average training loss for the epoch\n",
    "        avg_train_loss = train_loss / len(train_dataloader)\n",
    "        # ====================================\n",
    "\n",
    "\n",
    "        # ========== validation phase =========\n",
    "        model.eval()\n",
    "        valid_loss = 0.0\n",
    "        correct = 0\n",
    "        total = 0\n",
    "\n",
    "        with torch.no_grad():\n",
    "            for batch in valid_dataloader:\n",
    "                text, labels, text_lengths = batch\n",
    "                text, labels, text_lengths  = text.to(device), labels.to(device), text_lengths\n",
    "\n",
    "                output = model(text, text_lengths)\n",
    "                loss = loss_fn(output, labels)\n",
    "                valid_loss += loss.item()\n",
    "\n",
    "                _, predicted = torch.max(output, 1)\n",
    "                total += labels.size(0)\n",
    "                correct += (predicted == labels).sum().item()\n",
    "\n",
    "        # Calculate average validation loss and accuracy for the epoch\n",
    "        avg_valid_loss = valid_loss / len(valid_dataloader)\n",
    "        accuracy = 100 * (correct / total)\n",
    "        dev_acc_per_epoch.append(accuracy)\n",
    "        # =======================================\n",
    "        print(f'Epoch {epoch + 1}/{num_epochs}, Train Loss: {avg_train_loss:.4f}, Validation Loss: {avg_valid_loss:.4f}, Accuracy: {accuracy:.2f}%')\n",
    "\n",
    "    print('Training complete.')\n",
    "\n",
    "    return dev_acc_per_epoch\n"
   ]
  },
  {
   "cell_type": "markdown",
   "metadata": {},
   "source": [
    "### Test function"
   ]
  },
  {
   "cell_type": "code",
   "execution_count": 28,
   "metadata": {},
   "outputs": [],
   "source": [
    "def test(model, test_dataloader, device, loss_fn):\n",
    "    model.eval()\n",
    "    valid_loss = 0.0\n",
    "    correct = 0\n",
    "    total = 0\n",
    "    with torch.no_grad():\n",
    "        for batch in test_dataloader:\n",
    "            text, labels, text_lengths = batch\n",
    "            text, labels, text_lengths  = text.to(device), labels.to(device), text_lengths\n",
    "\n",
    "            output = model(text, text_lengths)\n",
    "            loss = loss_fn(output, labels)\n",
    "            valid_loss += loss.item()\n",
    "\n",
    "            _, predicted = torch.max(output, 1)\n",
    "            total += labels.size(0)\n",
    "            correct += (predicted == labels).sum().item()\n",
    "\n",
    "    # Calculate average validation loss and accuracy for the epoch\n",
    "    avg_valid_loss = valid_loss / len(test_dataloader)\n",
    "    accuracy = 100 * (correct / total)\n",
    "\n",
    "    return avg_valid_loss, accuracy"
   ]
  },
  {
   "cell_type": "markdown",
   "metadata": {},
   "source": [
    "# Train and test model with aggregation as taking representation of last word"
   ]
  },
  {
   "cell_type": "code",
   "execution_count": null,
   "metadata": {},
   "outputs": [],
   "source": [
    "seed = 0\n",
    "random.seed(seed)\n",
    "torch.manual_seed(seed)\n",
    "torch.cuda.manual_seed(seed)\n",
    "np.random.seed(seed)\n",
    "torch.cuda.manual_seed_all(seed)\n",
    "torch.backends.cudnn.deterministic = True"
   ]
  },
  {
   "cell_type": "code",
   "execution_count": 30,
   "metadata": {},
   "outputs": [
    {
     "name": "stderr",
     "output_type": "stream",
     "text": [
      "C:\\Users\\mdzak\\AppData\\Local\\Temp\\ipykernel_3152\\1319915531.py:6: UserWarning: To copy construct from a tensor, it is recommended to use sourceTensor.clone().detach() or sourceTensor.clone().detach().requires_grad_(True), rather than torch.tensor(sourceTensor).\n",
      "  self.embedding = nn.Embedding.from_pretrained(torch.tensor(embedding_matrix).to(device))\n"
     ]
    }
   ],
   "source": [
    "lstm_classifier_last = LSTMTextClassifier(vocab_size, embedding_dim, hidden_dim, output_dim,num_layer,True, device, aggregate='last')\n",
    "lr = 0.001\n",
    "optimizer = optim.Adam(lstm_classifier_last.parameters(), lr=lr)\n",
    "loss_fn = nn.CrossEntropyLoss()"
   ]
  },
  {
   "cell_type": "markdown",
   "metadata": {},
   "source": [
    "### Train model"
   ]
  },
  {
   "cell_type": "code",
   "execution_count": 31,
   "metadata": {},
   "outputs": [
    {
     "name": "stderr",
     "output_type": "stream",
     "text": [
      "C:\\Users\\mdzak\\AppData\\Local\\Temp\\ipykernel_3152\\3171075734.py:10: UserWarning: To copy construct from a tensor, it is recommended to use sourceTensor.clone().detach() or sourceTensor.clone().detach().requires_grad_(True), rather than torch.tensor(sourceTensor).\n",
      "  text, labels, text_lengths  = torch.tensor(text).to(device), labels.to(device), text_lengths\n"
     ]
    },
    {
     "name": "stdout",
     "output_type": "stream",
     "text": [
      "Epoch 1/50, Train Loss: 1.3029, Validation Loss: 1.1542, Accuracy: 75.60%\n",
      "Epoch 2/50, Train Loss: 1.1098, Validation Loss: 1.0840, Accuracy: 81.80%\n",
      "Epoch 3/50, Train Loss: 1.0640, Validation Loss: 1.0553, Accuracy: 85.00%\n",
      "Epoch 4/50, Train Loss: 1.0284, Validation Loss: 1.0527, Accuracy: 86.00%\n",
      "Epoch 5/50, Train Loss: 1.0111, Validation Loss: 1.0394, Accuracy: 86.60%\n",
      "Epoch 6/50, Train Loss: 0.9972, Validation Loss: 1.0460, Accuracy: 86.20%\n",
      "Epoch 7/50, Train Loss: 0.9840, Validation Loss: 1.0400, Accuracy: 86.40%\n",
      "Epoch 8/50, Train Loss: 0.9768, Validation Loss: 1.0298, Accuracy: 87.20%\n",
      "Epoch 9/50, Train Loss: 0.9643, Validation Loss: 1.0364, Accuracy: 86.20%\n",
      "Epoch 10/50, Train Loss: 0.9610, Validation Loss: 1.0422, Accuracy: 86.00%\n",
      "Epoch 11/50, Train Loss: 0.9610, Validation Loss: 1.0273, Accuracy: 87.80%\n",
      "Epoch 12/50, Train Loss: 0.9550, Validation Loss: 1.0271, Accuracy: 87.80%\n",
      "Epoch 13/50, Train Loss: 0.9545, Validation Loss: 1.0453, Accuracy: 85.60%\n",
      "Epoch 14/50, Train Loss: 0.9526, Validation Loss: 1.0328, Accuracy: 87.00%\n",
      "Epoch 15/50, Train Loss: 0.9495, Validation Loss: 1.0496, Accuracy: 85.20%\n",
      "Epoch 16/50, Train Loss: 0.9492, Validation Loss: 1.0306, Accuracy: 87.80%\n",
      "Epoch 17/50, Train Loss: 0.9483, Validation Loss: 1.0365, Accuracy: 86.60%\n",
      "Epoch 18/50, Train Loss: 0.9498, Validation Loss: 1.0387, Accuracy: 86.40%\n",
      "Epoch 19/50, Train Loss: 0.9454, Validation Loss: 1.0365, Accuracy: 86.80%\n",
      "Epoch 20/50, Train Loss: 0.9415, Validation Loss: 1.0226, Accuracy: 87.80%\n",
      "Epoch 21/50, Train Loss: 0.9356, Validation Loss: 1.0095, Accuracy: 89.40%\n",
      "Epoch 22/50, Train Loss: 0.9345, Validation Loss: 1.0058, Accuracy: 90.00%\n",
      "Epoch 23/50, Train Loss: 0.9352, Validation Loss: 1.0154, Accuracy: 88.80%\n",
      "Epoch 24/50, Train Loss: 0.9350, Validation Loss: 1.0268, Accuracy: 87.40%\n",
      "Epoch 25/50, Train Loss: 0.9329, Validation Loss: 1.0110, Accuracy: 89.80%\n",
      "Epoch 26/50, Train Loss: 0.9322, Validation Loss: 1.0053, Accuracy: 90.20%\n",
      "Epoch 27/50, Train Loss: 0.9346, Validation Loss: 1.0032, Accuracy: 90.60%\n",
      "Epoch 28/50, Train Loss: 0.9323, Validation Loss: 1.0020, Accuracy: 89.80%\n",
      "Epoch 29/50, Train Loss: 0.9294, Validation Loss: 1.0012, Accuracy: 90.40%\n",
      "Epoch 30/50, Train Loss: 0.9294, Validation Loss: 1.0159, Accuracy: 89.00%\n",
      "Epoch 31/50, Train Loss: 0.9272, Validation Loss: 1.0032, Accuracy: 90.40%\n",
      "Epoch 32/50, Train Loss: 0.9266, Validation Loss: 1.0125, Accuracy: 89.20%\n",
      "Epoch 33/50, Train Loss: 0.9256, Validation Loss: 1.0050, Accuracy: 90.00%\n",
      "Epoch 34/50, Train Loss: 0.9255, Validation Loss: 0.9978, Accuracy: 90.40%\n",
      "Epoch 35/50, Train Loss: 0.9249, Validation Loss: 0.9972, Accuracy: 90.60%\n",
      "Epoch 36/50, Train Loss: 0.9245, Validation Loss: 0.9991, Accuracy: 90.20%\n",
      "Epoch 37/50, Train Loss: 0.9291, Validation Loss: 1.0125, Accuracy: 89.00%\n",
      "Epoch 38/50, Train Loss: 0.9298, Validation Loss: 0.9955, Accuracy: 90.60%\n",
      "Epoch 39/50, Train Loss: 0.9324, Validation Loss: 1.0015, Accuracy: 90.40%\n",
      "Epoch 40/50, Train Loss: 0.9288, Validation Loss: 1.0013, Accuracy: 90.00%\n",
      "Epoch 41/50, Train Loss: 0.9267, Validation Loss: 1.0134, Accuracy: 88.80%\n",
      "Epoch 42/50, Train Loss: 0.9264, Validation Loss: 1.0093, Accuracy: 89.20%\n",
      "Epoch 43/50, Train Loss: 0.9262, Validation Loss: 0.9939, Accuracy: 91.20%\n",
      "Epoch 44/50, Train Loss: 0.9268, Validation Loss: 1.0016, Accuracy: 90.00%\n",
      "Epoch 45/50, Train Loss: 0.9257, Validation Loss: 0.9988, Accuracy: 90.80%\n",
      "Epoch 46/50, Train Loss: 0.9244, Validation Loss: 0.9976, Accuracy: 90.80%\n",
      "Epoch 47/50, Train Loss: 0.9235, Validation Loss: 1.0040, Accuracy: 90.00%\n",
      "Epoch 48/50, Train Loss: 0.9238, Validation Loss: 0.9961, Accuracy: 91.00%\n",
      "Epoch 49/50, Train Loss: 0.9249, Validation Loss: 0.9995, Accuracy: 90.40%\n",
      "Epoch 50/50, Train Loss: 0.9229, Validation Loss: 0.9996, Accuracy: 90.60%\n",
      "Training complete.\n"
     ]
    }
   ],
   "source": [
    "dev_acc_per_epoch = train(lstm_classifier_last, train_dataloader, development_dataloader, optimizer, loss_fn, device, num_epochs=50)"
   ]
  },
  {
   "cell_type": "code",
   "execution_count": 32,
   "metadata": {},
   "outputs": [
    {
     "data": {
      "image/png": "[encoded data removed]",
      "text/plain": [
       "<Figure size 1000x1000 with 1 Axes>"
      ]
     },
     "metadata": {},
     "output_type": "display_data"
    }
   ],
   "source": [
    "fig, ax = plt.subplots(figsize=(10, 10))\n",
    "epochs = list(range(1, len(dev_acc_per_epoch)+1))\n",
    "plt.plot(epochs, dev_acc_per_epoch, marker='x', linestyle='-')\n",
    "plt.title('Test Accuracy Over Epochs')\n",
    "plt.xlabel('Epoch')\n",
    "plt.ylabel('Accuracy')\n",
    "plt.grid(True)\n",
    "plt.show()"
   ]
  },
  {
   "cell_type": "markdown",
   "metadata": {},
   "source": [
    "### Get test accuracy and loss for test datatset"
   ]
  },
  {
   "cell_type": "code",
   "execution_count": 33,
   "metadata": {},
   "outputs": [
    {
     "name": "stdout",
     "output_type": "stream",
     "text": [
      "Avg test loss: 0.9788705930113792\n",
      "Accuracy: 92.80000000000001\n"
     ]
    }
   ],
   "source": [
    "avg_valid_loss, accuracy = test(lstm_classifier_last, test_dataloader, device, loss_fn)\n",
    "\n",
    "print(\"Avg test loss:\", avg_valid_loss)\n",
    "print(\"Accuracy:\", accuracy)"
   ]
  },
  {
   "cell_type": "markdown",
   "metadata": {},
   "source": [
    "# Train and test model with aggregation as max pooling"
   ]
  },
  {
   "cell_type": "code",
   "execution_count": 34,
   "metadata": {},
   "outputs": [],
   "source": [
    "seed = 0\n",
    "random.seed(seed)\n",
    "torch.manual_seed(seed)\n",
    "torch.cuda.manual_seed(seed)\n",
    "np.random.seed(seed)\n",
    "torch.cuda.manual_seed_all(seed)\n",
    "torch.backends.cudnn.deterministic = True"
   ]
  },
  {
   "cell_type": "code",
   "execution_count": 35,
   "metadata": {},
   "outputs": [
    {
     "name": "stderr",
     "output_type": "stream",
     "text": [
      "C:\\Users\\mdzak\\AppData\\Local\\Temp\\ipykernel_3152\\1319915531.py:6: UserWarning: To copy construct from a tensor, it is recommended to use sourceTensor.clone().detach() or sourceTensor.clone().detach().requires_grad_(True), rather than torch.tensor(sourceTensor).\n",
      "  self.embedding = nn.Embedding.from_pretrained(torch.tensor(embedding_matrix).to(device))\n"
     ]
    }
   ],
   "source": [
    "lstm_classifier_max = LSTMTextClassifier(vocab_size, embedding_dim, hidden_dim, output_dim,num_layer,True, device, aggregate='max')\n",
    "lr = 0.001\n",
    "optimizer = optim.Adam(lstm_classifier_max.parameters(), lr=lr)\n",
    "loss_fn = nn.CrossEntropyLoss()"
   ]
  },
  {
   "cell_type": "code",
   "execution_count": 36,
   "metadata": {},
   "outputs": [
    {
     "name": "stderr",
     "output_type": "stream",
     "text": [
      "C:\\Users\\mdzak\\AppData\\Local\\Temp\\ipykernel_3152\\3171075734.py:10: UserWarning: To copy construct from a tensor, it is recommended to use sourceTensor.clone().detach() or sourceTensor.clone().detach().requires_grad_(True), rather than torch.tensor(sourceTensor).\n",
      "  text, labels, text_lengths  = torch.tensor(text).to(device), labels.to(device), text_lengths\n"
     ]
    },
    {
     "name": "stdout",
     "output_type": "stream",
     "text": [
      "Epoch 1/50, Train Loss: 1.3317, Validation Loss: 1.1950, Accuracy: 72.00%\n",
      "Epoch 2/50, Train Loss: 1.1401, Validation Loss: 1.1176, Accuracy: 80.20%\n",
      "Epoch 3/50, Train Loss: 1.1081, Validation Loss: 1.1211, Accuracy: 78.60%\n",
      "Epoch 4/50, Train Loss: 1.0762, Validation Loss: 1.0734, Accuracy: 83.80%\n",
      "Epoch 5/50, Train Loss: 1.0507, Validation Loss: 1.0488, Accuracy: 85.40%\n",
      "Epoch 6/50, Train Loss: 1.0314, Validation Loss: 1.0440, Accuracy: 86.20%\n",
      "Epoch 7/50, Train Loss: 1.0114, Validation Loss: 1.0401, Accuracy: 85.60%\n",
      "Epoch 8/50, Train Loss: 1.0322, Validation Loss: 1.0543, Accuracy: 86.00%\n",
      "Epoch 9/50, Train Loss: 0.9999, Validation Loss: 1.0317, Accuracy: 87.80%\n",
      "Epoch 10/50, Train Loss: 0.9812, Validation Loss: 1.0391, Accuracy: 87.00%\n",
      "Epoch 11/50, Train Loss: 0.9737, Validation Loss: 1.0450, Accuracy: 85.40%\n",
      "Epoch 12/50, Train Loss: 0.9705, Validation Loss: 1.0452, Accuracy: 86.60%\n",
      "Epoch 13/50, Train Loss: 0.9658, Validation Loss: 1.0284, Accuracy: 87.20%\n",
      "Epoch 14/50, Train Loss: 0.9605, Validation Loss: 1.0273, Accuracy: 87.60%\n",
      "Epoch 15/50, Train Loss: 0.9556, Validation Loss: 1.0230, Accuracy: 88.20%\n",
      "Epoch 16/50, Train Loss: 0.9521, Validation Loss: 1.0275, Accuracy: 87.60%\n",
      "Epoch 17/50, Train Loss: 0.9512, Validation Loss: 1.0335, Accuracy: 86.60%\n",
      "Epoch 18/50, Train Loss: 0.9489, Validation Loss: 1.0333, Accuracy: 87.20%\n",
      "Epoch 19/50, Train Loss: 0.9480, Validation Loss: 1.0259, Accuracy: 87.80%\n",
      "Epoch 20/50, Train Loss: 0.9458, Validation Loss: 1.0367, Accuracy: 86.80%\n",
      "Epoch 21/50, Train Loss: 0.9443, Validation Loss: 1.0332, Accuracy: 86.80%\n",
      "Epoch 22/50, Train Loss: 0.9462, Validation Loss: 1.0320, Accuracy: 87.40%\n",
      "Epoch 23/50, Train Loss: 0.9442, Validation Loss: 1.0223, Accuracy: 88.20%\n",
      "Epoch 24/50, Train Loss: 0.9440, Validation Loss: 1.0288, Accuracy: 87.40%\n",
      "Epoch 25/50, Train Loss: 0.9463, Validation Loss: 1.0373, Accuracy: 86.40%\n",
      "Epoch 26/50, Train Loss: 0.9530, Validation Loss: 1.0336, Accuracy: 87.00%\n",
      "Epoch 27/50, Train Loss: 0.9460, Validation Loss: 1.0310, Accuracy: 87.40%\n",
      "Epoch 28/50, Train Loss: 0.9433, Validation Loss: 1.0301, Accuracy: 87.40%\n",
      "Epoch 29/50, Train Loss: 0.9427, Validation Loss: 1.0278, Accuracy: 87.80%\n",
      "Epoch 30/50, Train Loss: 0.9457, Validation Loss: 1.0253, Accuracy: 87.60%\n",
      "Epoch 31/50, Train Loss: 0.9430, Validation Loss: 1.0227, Accuracy: 88.40%\n",
      "Epoch 32/50, Train Loss: 0.9436, Validation Loss: 1.0309, Accuracy: 87.20%\n",
      "Epoch 33/50, Train Loss: 0.9402, Validation Loss: 1.0161, Accuracy: 88.80%\n",
      "Epoch 34/50, Train Loss: 0.9326, Validation Loss: 1.0095, Accuracy: 89.80%\n",
      "Epoch 35/50, Train Loss: 0.9334, Validation Loss: 1.0056, Accuracy: 89.60%\n",
      "Epoch 36/50, Train Loss: 0.9315, Validation Loss: 1.0064, Accuracy: 90.20%\n",
      "Epoch 37/50, Train Loss: 0.9293, Validation Loss: 1.0039, Accuracy: 90.00%\n",
      "Epoch 38/50, Train Loss: 0.9283, Validation Loss: 1.0004, Accuracy: 90.40%\n",
      "Epoch 39/50, Train Loss: 0.9279, Validation Loss: 0.9995, Accuracy: 90.80%\n",
      "Epoch 40/50, Train Loss: 0.9277, Validation Loss: 1.0006, Accuracy: 90.40%\n",
      "Epoch 41/50, Train Loss: 0.9271, Validation Loss: 0.9958, Accuracy: 90.80%\n",
      "Epoch 42/50, Train Loss: 0.9274, Validation Loss: 1.0017, Accuracy: 90.40%\n",
      "Epoch 43/50, Train Loss: 0.9350, Validation Loss: 1.0070, Accuracy: 90.20%\n",
      "Epoch 44/50, Train Loss: 0.9346, Validation Loss: 1.0042, Accuracy: 90.20%\n",
      "Epoch 45/50, Train Loss: 0.9290, Validation Loss: 0.9958, Accuracy: 90.80%\n",
      "Epoch 46/50, Train Loss: 0.9274, Validation Loss: 1.0005, Accuracy: 90.40%\n",
      "Epoch 47/50, Train Loss: 0.9247, Validation Loss: 1.0062, Accuracy: 90.00%\n",
      "Epoch 48/50, Train Loss: 0.9242, Validation Loss: 1.0050, Accuracy: 89.80%\n",
      "Epoch 49/50, Train Loss: 0.9248, Validation Loss: 1.0015, Accuracy: 90.20%\n",
      "Epoch 50/50, Train Loss: 0.9233, Validation Loss: 0.9968, Accuracy: 90.80%\n",
      "Training complete.\n"
     ]
    }
   ],
   "source": [
    "dev_acc_per_epoch = train(lstm_classifier_max, train_dataloader, development_dataloader, optimizer, loss_fn, device, num_epochs=50)"
   ]
  },
  {
   "cell_type": "code",
   "execution_count": 37,
   "metadata": {},
   "outputs": [
    {
     "data": {
      "image/png": "[encoded data removed]",
      "text/plain": [
       "<Figure size 1000x1000 with 1 Axes>"
      ]
     },
     "metadata": {},
     "output_type": "display_data"
    }
   ],
   "source": [
    "fig, ax = plt.subplots(figsize=(10, 10))\n",
    "epochs = list(range(1, len(dev_acc_per_epoch)+1))\n",
    "plt.plot(epochs, dev_acc_per_epoch, marker='x', linestyle='-')\n",
    "plt.title('Test Accuracy Over Epochs')\n",
    "plt.xlabel('Epoch')\n",
    "plt.ylabel('Test Accuracy')\n",
    "plt.grid(True)\n",
    "plt.show()"
   ]
  },
  {
   "cell_type": "code",
   "execution_count": 38,
   "metadata": {},
   "outputs": [
    {
     "name": "stdout",
     "output_type": "stream",
     "text": [
      "Avg test loss: 0.9823838844895363\n",
      "Accuracy: 92.4\n"
     ]
    }
   ],
   "source": [
    "avg_valid_loss, accuracy = test(lstm_classifier_max, test_dataloader, device, loss_fn)\n",
    "\n",
    "print(\"Avg test loss:\", avg_valid_loss)\n",
    "print(\"Accuracy:\", accuracy)"
   ]
  },
  {
   "cell_type": "markdown",
   "metadata": {},
   "source": [
    "# Train and test model with aggregation as average pooling"
   ]
  },
  {
   "cell_type": "code",
   "execution_count": 39,
   "metadata": {},
   "outputs": [],
   "source": [
    "seed = 0\n",
    "random.seed(seed)\n",
    "torch.manual_seed(seed)\n",
    "torch.cuda.manual_seed(seed)\n",
    "np.random.seed(seed)\n",
    "torch.cuda.manual_seed_all(seed)\n",
    "torch.backends.cudnn.deterministic = True"
   ]
  },
  {
   "cell_type": "code",
   "execution_count": 40,
   "metadata": {},
   "outputs": [
    {
     "name": "stderr",
     "output_type": "stream",
     "text": [
      "C:\\Users\\mdzak\\AppData\\Local\\Temp\\ipykernel_3152\\1319915531.py:6: UserWarning: To copy construct from a tensor, it is recommended to use sourceTensor.clone().detach() or sourceTensor.clone().detach().requires_grad_(True), rather than torch.tensor(sourceTensor).\n",
      "  self.embedding = nn.Embedding.from_pretrained(torch.tensor(embedding_matrix).to(device))\n"
     ]
    }
   ],
   "source": [
    "lstm_classifier_avg = LSTMTextClassifier(vocab_size, embedding_dim, hidden_dim, output_dim,num_layer,True, device, aggregate='average')\n",
    "lr = 0.001\n",
    "optimizer = optim.Adam(lstm_classifier_avg.parameters(), lr=lr)\n",
    "loss_fn = nn.CrossEntropyLoss()"
   ]
  },
  {
   "cell_type": "code",
   "execution_count": 41,
   "metadata": {},
   "outputs": [
    {
     "name": "stderr",
     "output_type": "stream",
     "text": [
      "C:\\Users\\mdzak\\AppData\\Local\\Temp\\ipykernel_3152\\3171075734.py:10: UserWarning: To copy construct from a tensor, it is recommended to use sourceTensor.clone().detach() or sourceTensor.clone().detach().requires_grad_(True), rather than torch.tensor(sourceTensor).\n",
      "  text, labels, text_lengths  = torch.tensor(text).to(device), labels.to(device), text_lengths\n"
     ]
    },
    {
     "name": "stdout",
     "output_type": "stream",
     "text": [
      "Epoch 1/50, Train Loss: 1.4587, Validation Loss: 1.3483, Accuracy: 57.80%\n",
      "Epoch 2/50, Train Loss: 1.3383, Validation Loss: 1.2658, Accuracy: 66.40%\n",
      "Epoch 3/50, Train Loss: 1.2280, Validation Loss: 1.2173, Accuracy: 68.80%\n",
      "Epoch 4/50, Train Loss: 1.1652, Validation Loss: 1.1665, Accuracy: 75.00%\n",
      "Epoch 5/50, Train Loss: 1.1258, Validation Loss: 1.1202, Accuracy: 79.40%\n",
      "Epoch 6/50, Train Loss: 1.1104, Validation Loss: 1.1184, Accuracy: 79.20%\n",
      "Epoch 7/50, Train Loss: 1.0947, Validation Loss: 1.1511, Accuracy: 75.00%\n",
      "Epoch 8/50, Train Loss: 1.0815, Validation Loss: 1.1109, Accuracy: 79.20%\n",
      "Epoch 9/50, Train Loss: 1.0895, Validation Loss: 1.1302, Accuracy: 77.60%\n",
      "Epoch 10/50, Train Loss: 1.0711, Validation Loss: 1.0777, Accuracy: 82.80%\n",
      "Epoch 11/50, Train Loss: 1.0486, Validation Loss: 1.0786, Accuracy: 83.80%\n",
      "Epoch 12/50, Train Loss: 1.0677, Validation Loss: 1.0595, Accuracy: 84.60%\n",
      "Epoch 13/50, Train Loss: 1.0334, Validation Loss: 1.0605, Accuracy: 85.00%\n",
      "Epoch 14/50, Train Loss: 1.0228, Validation Loss: 1.0522, Accuracy: 85.80%\n",
      "Epoch 15/50, Train Loss: 1.0202, Validation Loss: 1.0856, Accuracy: 82.00%\n",
      "Epoch 16/50, Train Loss: 1.0288, Validation Loss: 1.0640, Accuracy: 84.60%\n",
      "Epoch 17/50, Train Loss: 1.0086, Validation Loss: 1.0449, Accuracy: 86.20%\n",
      "Epoch 18/50, Train Loss: 1.0344, Validation Loss: 1.0545, Accuracy: 85.00%\n",
      "Epoch 19/50, Train Loss: 0.9995, Validation Loss: 1.0408, Accuracy: 86.40%\n",
      "Epoch 20/50, Train Loss: 1.0005, Validation Loss: 1.0451, Accuracy: 86.00%\n",
      "Epoch 21/50, Train Loss: 0.9958, Validation Loss: 1.0517, Accuracy: 85.60%\n",
      "Epoch 22/50, Train Loss: 0.9948, Validation Loss: 1.0549, Accuracy: 85.20%\n",
      "Epoch 23/50, Train Loss: 0.9992, Validation Loss: 1.0900, Accuracy: 82.00%\n",
      "Epoch 24/50, Train Loss: 1.0109, Validation Loss: 1.0543, Accuracy: 84.80%\n",
      "Epoch 25/50, Train Loss: 1.0089, Validation Loss: 1.0450, Accuracy: 86.60%\n",
      "Epoch 26/50, Train Loss: 0.9861, Validation Loss: 1.0432, Accuracy: 86.40%\n",
      "Epoch 27/50, Train Loss: 0.9815, Validation Loss: 1.0394, Accuracy: 86.80%\n",
      "Epoch 28/50, Train Loss: 0.9760, Validation Loss: 1.0395, Accuracy: 86.20%\n",
      "Epoch 29/50, Train Loss: 0.9776, Validation Loss: 1.0555, Accuracy: 85.00%\n",
      "Epoch 30/50, Train Loss: 0.9849, Validation Loss: 1.0533, Accuracy: 85.00%\n",
      "Epoch 31/50, Train Loss: 0.9782, Validation Loss: 1.0315, Accuracy: 86.60%\n",
      "Epoch 32/50, Train Loss: 0.9715, Validation Loss: 1.0329, Accuracy: 87.40%\n",
      "Epoch 33/50, Train Loss: 0.9703, Validation Loss: 1.0321, Accuracy: 87.00%\n",
      "Epoch 34/50, Train Loss: 0.9722, Validation Loss: 1.0428, Accuracy: 85.80%\n",
      "Epoch 35/50, Train Loss: 0.9741, Validation Loss: 1.0445, Accuracy: 85.80%\n",
      "Epoch 36/50, Train Loss: 0.9722, Validation Loss: 1.0576, Accuracy: 84.40%\n",
      "Epoch 37/50, Train Loss: 0.9666, Validation Loss: 1.0461, Accuracy: 85.60%\n",
      "Epoch 38/50, Train Loss: 0.9627, Validation Loss: 1.0491, Accuracy: 85.60%\n",
      "Epoch 39/50, Train Loss: 0.9627, Validation Loss: 1.0420, Accuracy: 85.60%\n",
      "Epoch 40/50, Train Loss: 0.9880, Validation Loss: 1.0905, Accuracy: 81.40%\n",
      "Epoch 41/50, Train Loss: 0.9968, Validation Loss: 1.0390, Accuracy: 86.40%\n",
      "Epoch 42/50, Train Loss: 0.9713, Validation Loss: 1.0388, Accuracy: 86.60%\n",
      "Epoch 43/50, Train Loss: 0.9675, Validation Loss: 1.0448, Accuracy: 86.00%\n",
      "Epoch 44/50, Train Loss: 0.9642, Validation Loss: 1.0258, Accuracy: 87.60%\n",
      "Epoch 45/50, Train Loss: 0.9625, Validation Loss: 1.0279, Accuracy: 87.40%\n",
      "Epoch 46/50, Train Loss: 0.9661, Validation Loss: 1.0178, Accuracy: 88.40%\n",
      "Epoch 47/50, Train Loss: 0.9654, Validation Loss: 1.0251, Accuracy: 87.80%\n",
      "Epoch 48/50, Train Loss: 0.9557, Validation Loss: 1.0307, Accuracy: 86.80%\n",
      "Epoch 49/50, Train Loss: 0.9569, Validation Loss: 1.0275, Accuracy: 87.60%\n",
      "Epoch 50/50, Train Loss: 0.9527, Validation Loss: 1.0337, Accuracy: 86.80%\n",
      "Training complete.\n"
     ]
    }
   ],
   "source": [
    "dev_acc_per_epoch = train(lstm_classifier_avg, train_dataloader, development_dataloader, optimizer, loss_fn, device, num_epochs=50)"
   ]
  },
  {
   "cell_type": "code",
   "execution_count": 42,
   "metadata": {},
   "outputs": [
    {
     "data": {
      "image/png": "[encoded data removed]",
      "text/plain": [
       "<Figure size 1000x1000 with 1 Axes>"
      ]
     },
     "metadata": {},
     "output_type": "display_data"
    }
   ],
   "source": [
    "fig, ax = plt.subplots(figsize=(10, 10))\n",
    "epochs = list(range(1, len(dev_acc_per_epoch)+1))\n",
    "plt.plot(epochs, dev_acc_per_epoch, marker='x', linestyle='-')\n",
    "plt.title('Test Accuracy Over Epochs')\n",
    "plt.xlabel('Epoch')\n",
    "plt.ylabel('Test Accuracy')\n",
    "plt.grid(True)\n",
    "plt.show()"
   ]
  },
  {
   "cell_type": "code",
   "execution_count": 43,
   "metadata": {},
   "outputs": [
    {
     "name": "stdout",
     "output_type": "stream",
     "text": [
      "Avg test loss: 1.0008050464093685\n",
      "Accuracy: 90.2\n"
     ]
    }
   ],
   "source": [
    "avg_valid_loss, accuracy = test(lstm_classifier_avg, test_dataloader, device, loss_fn)\n",
    "\n",
    "print(\"Avg test loss:\", avg_valid_loss)\n",
    "print(\"Accuracy:\", accuracy)"
   ]
  },
  {
   "cell_type": "code",
   "execution_count": null,
   "metadata": {},
   "outputs": [],
   "source": []
  }
 ],
 "metadata": {
  "kernelspec": {
   "display_name": "nlp",
   "language": "python",
   "name": "python3"
  },
  "language_info": {
   "codemirror_mode": {
    "name": "ipython",
    "version": 3
   },
   "file_extension": ".py",
   "mimetype": "text/x-python",
   "name": "python",
   "nbconvert_exporter": "python",
   "pygments_lexer": "ipython3",
   "version": "3.9.18"
  }
 },
 "nbformat": 4,
 "nbformat_minor": 2
}
